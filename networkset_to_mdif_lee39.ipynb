{
 "cells": [
  {
   "cell_type": "markdown",
   "metadata": {},
   "source": [
    "# NetworkSet to MDIF Example Using Mini-Circuits LEE-39+\n",
    "\n",
    "This example demonstrates how to export a parameterized set of Touchstone files into a single Generalized MDIF file. In this case, the s-parameters are for the [Mini-Circuits LEE-39+](https://www.minicircuits.com/WebStore/dashboard.html?model=LEE-39%2B) amplifier which is measured over temperature and bias current."
   ]
  },
  {
   "cell_type": "code",
   "execution_count": 14,
   "metadata": {},
   "outputs": [],
   "source": [
    "import skrf\n",
    "from pprint import pprint\n",
    "\n",
    "amp_data = skrf.read_all(\"LEE-39+\")\n",
    "ns = skrf.NetworkSet(amp_data)"
   ]
  },
  {
   "cell_type": "markdown",
   "metadata": {},
   "source": [
    "Parse the network names containing temperature and current into floats:"
   ]
  },
  {
   "cell_type": "code",
   "execution_count": 15,
   "metadata": {},
   "outputs": [
    {
     "name": "stdout",
     "output_type": "stream",
     "text": [
      "{'current_mA': [28.0, 28.0, 28.0, 35.0, 35.0, 35.0, 42.0, 42.0, 42.0],\n",
      " 'temp_C': [-45.0, 25.0, 85.0, -45.0, 25.0, 85.0, -45.0, 25.0, 85.0]}\n",
      "{'current_mA': 'double', 'temp_C': 'double'}\n"
     ]
    }
   ],
   "source": [
    "current_mA = []\n",
    "temp_C = []\n",
    "\n",
    "for ntwk in ns:\n",
    "    _, current_str, temp_str = ntwk.name.split(\"___\")\n",
    "    current_mA.append(float(current_str.replace(\"mA\", \"\")))\n",
    "    temp_C.append(float(temp_str.replace(\"Plus\", \"\").replace(\"Minus\", \"-\").replace(\"degC\", \"\")))\n",
    "\n",
    "values = {\"current_mA\": current_mA, \"temp_C\": temp_C}\n",
    "data_types = {\"current_mA\": \"double\", \"temp_C\": \"double\"}\n",
    "comments = [\"scikit-rf NetworkSet converted to GMDIF file\", \"Awesome!\"]\n",
    "\n",
    "pprint(values)\n",
    "pprint(data_types)"
   ]
  },
  {
   "cell_type": "markdown",
   "metadata": {},
   "source": [
    "Finally write the MDIF file:"
   ]
  },
  {
   "cell_type": "code",
   "execution_count": 16,
   "metadata": {},
   "outputs": [],
   "source": [
    "ns.write_mdif(\"LEE-39+.mdf\", values, data_types, comments)"
   ]
  }
 ],
 "metadata": {
  "kernelspec": {
   "display_name": "Python 3.10.2 ('sandbox')",
   "language": "python",
   "name": "python3"
  },
  "language_info": {
   "codemirror_mode": {
    "name": "ipython",
    "version": 3
   },
   "file_extension": ".py",
   "mimetype": "text/x-python",
   "name": "python",
   "nbconvert_exporter": "python",
   "pygments_lexer": "ipython3",
   "version": "3.10.3"
  },
  "orig_nbformat": 4,
  "vscode": {
   "interpreter": {
    "hash": "084ce82a4f277fbd6f64869b17c9d49a8831212c4500853dfe3b53b6c8e89f2d"
   }
  }
 },
 "nbformat": 4,
 "nbformat_minor": 2
}
